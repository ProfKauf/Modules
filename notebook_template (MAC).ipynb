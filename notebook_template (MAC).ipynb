{
 "cells": [
  {
   "cell_type": "code",
   "execution_count": null,
   "id": "fbea0fc8",
   "metadata": {},
   "outputs": [],
   "source": [
    "import lib, momeda\n",
    "from lib import *\n",
    "from momeda import *"
   ]
  },
  {
   "cell_type": "markdown",
   "id": "ab383958",
   "metadata": {},
   "source": [
    "#### Load the Data"
   ]
  },
  {
   "cell_type": "code",
   "execution_count": null,
   "id": "b7f231fe",
   "metadata": {},
   "outputs": [],
   "source": [
    "ENTER NAME THAT YOU WANT TO GIVE THE DATA FRAME = pd.read_excel ('ENTER NAME OF YOUR EXCEL.xlsx')"
   ]
  }
 ],
 "metadata": {
  "kernelspec": {
   "display_name": "Python 3 (ipykernel)",
   "language": "python",
   "name": "python3"
  },
  "language_info": {
   "codemirror_mode": {
    "name": "ipython",
    "version": 3
   },
   "file_extension": ".py",
   "mimetype": "text/x-python",
   "name": "python",
   "nbconvert_exporter": "python",
   "pygments_lexer": "ipython3",
   "version": "3.11.5"
  }
 },
 "nbformat": 4,
 "nbformat_minor": 5
}
