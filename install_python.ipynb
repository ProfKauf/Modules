{
 "cells": [
  {
   "cell_type": "code",
   "execution_count": null,
   "id": "1333bbfc",
   "metadata": {},
   "outputs": [],
   "source": [
    "#Get Requirements\n",
    "!pip install -r https://raw.githubusercontent.com/ProfKauf/Modules/main/requirements.txt"
   ]
  },
  {
   "cell_type": "code",
   "execution_count": null,
   "id": "85854b32",
   "metadata": {},
   "outputs": [],
   "source": [
    "# ================ Notebook Preamble =================\n",
    "'''\n",
    "import httpimport\n",
    "url='https://raw.githubusercontent.com/ProfKauf/Modules/main/'\n",
    "with httpimport.remote_repo(url):\n",
    "    import profK_libraries, profK_statistics\n",
    "from profK_libraries import *\n",
    "from profK_statistics import *\n",
    "'''"
   ]
  }
 ],
 "metadata": {
  "kernelspec": {
   "display_name": "Python 3 (ipykernel)",
   "language": "python",
   "name": "python3"
  },
  "language_info": {
   "codemirror_mode": {
    "name": "ipython",
    "version": 3
   },
   "file_extension": ".py",
   "mimetype": "text/x-python",
   "name": "python",
   "nbconvert_exporter": "python",
   "pygments_lexer": "ipython3",
   "version": "3.11.5"
  }
 },
 "nbformat": 4,
 "nbformat_minor": 5
}
